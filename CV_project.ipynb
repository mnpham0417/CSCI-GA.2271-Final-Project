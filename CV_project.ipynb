{
  "nbformat": 4,
  "nbformat_minor": 0,
  "metadata": {
    "colab": {
      "name": "CV_project.ipynb",
      "provenance": [],
      "collapsed_sections": []
    },
    "kernelspec": {
      "display_name": "Python 3",
      "name": "python3"
    },
    "accelerator": "GPU"
  },
  "cells": [
    {
      "cell_type": "code",
      "metadata": {
        "colab": {
          "base_uri": "https://localhost:8080/"
        },
        "id": "o0aPnIKXpWbN",
        "outputId": "7a850205-d3d9-420c-aa4e-460724ab9fd6"
      },
      "source": [
        "# Load the Drive helper and mount\n",
        "from google.colab import drive\n",
        "drive.mount('/content/drive')\n",
        "%cd  /content/drive/'My Drive'/dataset/"
      ],
      "execution_count": null,
      "outputs": [
        {
          "output_type": "stream",
          "name": "stdout",
          "text": [
            "Drive already mounted at /content/drive; to attempt to forcibly remount, call drive.mount(\"/content/drive\", force_remount=True).\n",
            "/content/drive/My Drive/dataset\n"
          ]
        }
      ]
    },
    {
      "cell_type": "code",
      "metadata": {
        "id": "z21UKj_bT--_"
      },
      "source": [
        "\n",
        "\n",
        "import torch\n",
        "from torch.utils.data import Dataset\n",
        "import torch.nn as nn\n",
        "import torch.nn.functional as F\n",
        "import torch.optim as optim\n",
        "from torchvision import datasets, transforms\n",
        "from sklearn.model_selection import train_test_split\n",
        "from torch.utils.data import TensorDataset, DataLoader\n",
        "import cv2 \n",
        "import glob \n",
        "\n",
        "batch_size = 32\n",
        "momentum = 0.9\n",
        "lr = 0.001\n",
        "epochs = 10\n",
        "log_interval = 10\n",
        "\n",
        "\n",
        "\n",
        "X = []\n",
        "y = []\n",
        "\n",
        "for i in glob.glob('./fake_face_dcgan/*'):\n",
        "  im = cv2.imread(i)\n",
        "  X.append(im)\n",
        "  y.append(1)\n",
        "\n",
        "for i in glob.glob('./real_face/*'):\n",
        "\n",
        "  im = cv2.imread(i)\n",
        "  im = cv2.resize(im, (64,64), interpolation = cv2.INTER_AREA)\n",
        "  X.append(im)\n",
        "  y.append(0)\n",
        "\n",
        "\n",
        "\n",
        "X_train, X_test, y_train, y_test = train_test_split(X, y, test_size=0.30, random_state=42)\n",
        "\n",
        "X_train, X_test, y_train, y_test = torch.tensor(X_train), torch.tensor(X_test), torch.tensor(y_train), torch.tensor(y_test) \n",
        "\n",
        "X_train = X_train.permute(0, 3, 1, 2)\n",
        "\n",
        "X_test = X_test.permute(0, 3, 1, 2)\n",
        "\n",
        "X_train.shape\n",
        "\n",
        "\n",
        "my_dataset_train = TensorDataset(X_train, y_train) # create your datset\n",
        "train_loader = DataLoader(my_dataset_train, batch_size=32, shuffle=True)\n",
        "\n",
        "my_dataset_test = TensorDataset(X_test, y_test) # create your datset\n",
        "test_loader = DataLoader(my_dataset_test, batch_size=32, shuffle=True)\n",
        "\n",
        "\n"
      ],
      "execution_count": null,
      "outputs": []
    },
    {
      "cell_type": "code",
      "metadata": {
        "colab": {
          "base_uri": "https://localhost:8080/"
        },
        "id": "xibmCpsF0u28",
        "outputId": "18dd6822-8032-4c69-95a0-8112689f67f8"
      },
      "source": [
        "X_test.shape"
      ],
      "execution_count": null,
      "outputs": [
        {
          "output_type": "execute_result",
          "data": {
            "text/plain": [
              "torch.Size([2310, 3, 64, 64])"
            ]
          },
          "metadata": {},
          "execution_count": 46
        }
      ]
    },
    {
      "cell_type": "code",
      "metadata": {
        "colab": {
          "base_uri": "https://localhost:8080/"
        },
        "id": "Cge9L37oty-0",
        "outputId": "c90c0e39-bfb6-42c7-9e0a-4823bd06007c"
      },
      "source": [
        "import numpy as np\n",
        "np.unique(y)"
      ],
      "execution_count": null,
      "outputs": [
        {
          "output_type": "execute_result",
          "data": {
            "text/plain": [
              "array([0, 1])"
            ]
          },
          "metadata": {},
          "execution_count": 47
        }
      ]
    },
    {
      "cell_type": "code",
      "metadata": {
        "colab": {
          "base_uri": "https://localhost:8080/"
        },
        "id": "rhoGOXBY0BHW",
        "outputId": "1e8880ca-f29b-464e-a46d-a3161f96dfb3"
      },
      "source": [
        "i = iter(train_loader)\n",
        "x1,y1 = next(i)\n",
        "x1.shape"
      ],
      "execution_count": null,
      "outputs": [
        {
          "output_type": "execute_result",
          "data": {
            "text/plain": [
              "torch.Size([32, 3, 64, 64])"
            ]
          },
          "metadata": {},
          "execution_count": 48
        }
      ]
    },
    {
      "cell_type": "code",
      "metadata": {
        "id": "zeev4SoMvazV"
      },
      "source": [
        "import torch\n",
        "import torch.nn as nn\n",
        "import torch.nn.functional as F\n",
        "\n",
        "nclasses = 2 \n",
        "\n",
        "class Net(nn.Module):\n",
        "    def __init__(self):\n",
        "        super(Net, self).__init__()\n",
        "        self.conv1 = nn.Conv2d(3, 20, kernel_size=3)\n",
        "        self.batchnorm1 = nn.BatchNorm2d(20)\n",
        "        self.conv2 = nn.Conv2d(20, 20, kernel_size=3)\n",
        "        self.batchnorm2 = nn.BatchNorm2d(20)\n",
        "        self.conv3 = nn.Conv2d(20, 20, kernel_size=3)\n",
        "        self.batchnorm3 = nn.BatchNorm2d(20)\n",
        "        self.conv4 = nn.Conv2d(20, 20, kernel_size=3)\n",
        "        self.batchnorm4 = nn.BatchNorm2d(20)\n",
        "        # self.conv5 = nn.Conv2d(20, 20, kernel_size=3)\n",
        "        # self.batchnorm5 = nn.BatchNorm2d(20)\n",
        "        \n",
        "        # self.conv2_drop = nn.Dropout2d()\n",
        "        self.flatten = nn.Flatten()\n",
        "        self.fc1 = nn.Linear(62720, 100)\n",
        "        self.fc2 = nn.Linear(100, nclasses)\n",
        "\n",
        "        for m in self.modules():\n",
        "          if isinstance(m, nn.Conv2d):\n",
        "              torch.nn.init.xavier_uniform(m.weight) #, nonlinearity='relu'\n",
        "          elif isinstance(m, (nn.BatchNorm2d, nn.GroupNorm)):\n",
        "              nn.init.constant_(m.weight, 1)\n",
        "              nn.init.constant_(m.bias, 0)\n",
        "\n",
        "    def forward(self, x):\n",
        "        relu = nn.ReLU()\n",
        "\n",
        "        x = self.conv1(x)\n",
        "        x = self.batchnorm1(x)\n",
        "        x = relu(x)\n",
        "        x = self.conv2(x)\n",
        "        x = self.batchnorm2(x)\n",
        "        x = relu(x)\n",
        "        x = self.conv3(x)\n",
        "        # x = F.max_pool2d(x, 2)\n",
        "        x = self.batchnorm3(x)\n",
        "        x = relu(x)\n",
        "        x = self.conv4(x)\n",
        "        x = self.batchnorm4(x)\n",
        "        x = relu(x)\n",
        "\n",
        "        # x = self.conv5(x)\n",
        "        # x = F.max_pool2d(x, 2)\n",
        "        # x = self.batchnorm5(x)\n",
        "        x = relu(x)\n",
        "        # x = drop_\n",
        "        x = x.view(-1, 62720)\n",
        "        # x = self.flatten(x)\n",
        "        x = relu(self.fc1(x))\n",
        "        # x = F.dropout(x, training=self.training)\n",
        "        x = self.fc2(x)\n",
        "        return F.log_softmax(x,dim=1)\n"
      ],
      "execution_count": null,
      "outputs": []
    },
    {
      "cell_type": "markdown",
      "metadata": {
        "id": "Ty9TAvrdvf8C"
      },
      "source": [
        "# Training"
      ]
    },
    {
      "cell_type": "code",
      "metadata": {
        "colab": {
          "base_uri": "https://localhost:8080/"
        },
        "id": "_A5-OCgBvhXv",
        "outputId": "e079a72c-39cf-4409-8131-8008f8692728"
      },
      "source": [
        "\n",
        "\n",
        "device = torch.device(\"cuda\" if torch.cuda.is_available() else \"cpu\")\n",
        "# model = GoogLeNet().to(device)\n",
        "model = Net().to(device)\n",
        "\n",
        "\n",
        "# optimizer = optim.SGD(model.parameters(), lr=lr, momentum=momentum)\n",
        "optimizer = optim.Adam(model.parameters(), lr=lr)\n",
        "loss_func = nn.CrossEntropyLoss()\n",
        "\n",
        "def train(epoch):\n",
        "    model.train()\n",
        "    correct =0\n",
        "    for batch_idx, (data, target) in enumerate(train_loader):\n",
        "        data, target = data.to(device).float(), target.to(device).float()\n",
        "        \n",
        "        optimizer.zero_grad()\n",
        "   \n",
        "        output = model(data)\n",
        "        # print(data.shape)\n",
        "        # print(target.shape)\n",
        "        # print(output.shape)\n",
        "\n",
        "        loss = loss_func(output, target.long())\n",
        "        loss.backward()\n",
        "        optimizer.step()\n",
        "        pred = output.data.max(1, keepdim=True)[1] # get the index of the max log-probability\n",
        "        correct += pred.eq(target.data.view_as(pred)).cpu().sum()\n",
        "        # if batch_idx % log_interval == 0:\n",
        "    print('Train Epoch: {} [{}/{} ({:.0f}%)]\\tLoss: {:.6f}\\tAccuracy{:.3f}'.format(\n",
        "        epoch, batch_idx * len(data), len(train_loader.dataset),\n",
        "        100. * batch_idx / len(train_loader), loss.item(), 100. * correct / len(train_loader.dataset) ))\n",
        "\n",
        "def validation():\n",
        "    model.eval()\n",
        "    validation_loss = 0\n",
        "    correct = 0\n",
        "    for data, target in test_loader:\n",
        "        data = data.to(device).float()\n",
        "        target = target.to(device).long()\n",
        "        output = model(data)\n",
        "        validation_loss += F.nll_loss(output, target, reduction=\"sum\").item() # sum up batch loss\n",
        "        pred = output.data.max(1, keepdim=True)[1] # get the index of the max log-probability\n",
        "        correct += pred.eq(target.data.view_as(pred)).cpu().sum()\n",
        "\n",
        "    validation_loss /= len(test_loader.dataset)\n",
        "    print('\\nValidation set: Average loss: {:.4f}, Accuracy: {}/{} ({:.0f}%)\\n'.format(\n",
        "        validation_loss, correct, len(test_loader.dataset),\n",
        "        100. * correct / len(test_loader.dataset)))\n",
        "\n",
        "\n",
        "for epoch in range(1, epochs + 1):\n",
        "    train(epoch)\n",
        "    validation()\n",
        "    model_file = 'model_' + str(epoch) + '.pth'\n",
        "    torch.save(model.state_dict(), model_file)\n",
        "    print('\\nSaved model to ' + model_file + '.')\n"
      ],
      "execution_count": null,
      "outputs": [
        {
          "output_type": "stream",
          "name": "stderr",
          "text": [
            "/usr/local/lib/python3.7/dist-packages/ipykernel_launcher.py:28: UserWarning: nn.init.xavier_uniform is now deprecated in favor of nn.init.xavier_uniform_.\n"
          ]
        },
        {
          "output_type": "stream",
          "name": "stdout",
          "text": [
            "Train Epoch: 1 [2184/5389 (99%)]\tLoss: 0.000335\tAccuracy97.940\n",
            "\n",
            "Validation set: Average loss: 0.0051, Accuracy: 2305/2310 (100%)\n",
            "\n",
            "\n",
            "Saved model to model_1.pth.\n",
            "Train Epoch: 2 [2184/5389 (99%)]\tLoss: 0.000406\tAccuracy99.963\n",
            "\n",
            "Validation set: Average loss: 0.0061, Accuracy: 2306/2310 (100%)\n",
            "\n",
            "\n",
            "Saved model to model_2.pth.\n",
            "Train Epoch: 3 [2184/5389 (99%)]\tLoss: 0.000004\tAccuracy99.963\n",
            "\n",
            "Validation set: Average loss: 0.0031, Accuracy: 2307/2310 (100%)\n",
            "\n",
            "\n",
            "Saved model to model_3.pth.\n",
            "Train Epoch: 4 [2184/5389 (99%)]\tLoss: 0.000000\tAccuracy100.000\n",
            "\n",
            "Validation set: Average loss: 0.0022, Accuracy: 2308/2310 (100%)\n",
            "\n",
            "\n",
            "Saved model to model_4.pth.\n",
            "Train Epoch: 5 [2184/5389 (99%)]\tLoss: 0.000001\tAccuracy100.000\n",
            "\n",
            "Validation set: Average loss: 0.0019, Accuracy: 2308/2310 (100%)\n",
            "\n",
            "\n",
            "Saved model to model_5.pth.\n",
            "Train Epoch: 6 [2184/5389 (99%)]\tLoss: 0.000001\tAccuracy100.000\n",
            "\n",
            "Validation set: Average loss: 0.0017, Accuracy: 2308/2310 (100%)\n",
            "\n",
            "\n",
            "Saved model to model_6.pth.\n",
            "Train Epoch: 7 [2184/5389 (99%)]\tLoss: 0.000000\tAccuracy100.000\n",
            "\n",
            "Validation set: Average loss: 0.0016, Accuracy: 2308/2310 (100%)\n",
            "\n",
            "\n",
            "Saved model to model_7.pth.\n",
            "Train Epoch: 8 [2184/5389 (99%)]\tLoss: 0.000064\tAccuracy100.000\n",
            "\n",
            "Validation set: Average loss: 0.0016, Accuracy: 2308/2310 (100%)\n",
            "\n",
            "\n",
            "Saved model to model_8.pth.\n",
            "Train Epoch: 9 [2184/5389 (99%)]\tLoss: 0.000000\tAccuracy100.000\n",
            "\n",
            "Validation set: Average loss: 0.0016, Accuracy: 2308/2310 (100%)\n",
            "\n",
            "\n",
            "Saved model to model_9.pth.\n",
            "Train Epoch: 10 [2184/5389 (99%)]\tLoss: 0.000032\tAccuracy100.000\n",
            "\n",
            "Validation set: Average loss: 0.0015, Accuracy: 2308/2310 (100%)\n",
            "\n",
            "\n",
            "Saved model to model_10.pth.\n"
          ]
        }
      ]
    },
    {
      "cell_type": "code",
      "metadata": {
        "id": "MpE7isds3Dja"
      },
      "source": [
        ""
      ],
      "execution_count": null,
      "outputs": []
    },
    {
      "cell_type": "code",
      "metadata": {
        "id": "TpBP6Q9qzfKI"
      },
      "source": [
        ""
      ],
      "execution_count": null,
      "outputs": []
    }
  ]
}