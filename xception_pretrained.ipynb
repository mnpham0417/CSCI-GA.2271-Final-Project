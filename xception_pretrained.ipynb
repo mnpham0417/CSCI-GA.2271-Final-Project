{
 "cells": [
  {
   "cell_type": "code",
   "execution_count": 8,
   "metadata": {
    "id": "4xZ8E5WoZI5s"
   },
   "outputs": [],
   "source": [
    "\n",
    "import torch\n",
    "from torch.utils.data import Dataset\n",
    "import torch.nn as nn\n",
    "import torch.nn.functional as F\n",
    "import torch.optim as optim\n",
    "from torchvision import datasets, transforms\n",
    "from sklearn.model_selection import train_test_split\n",
    "from torch.utils.data import TensorDataset, DataLoader\n",
    "import cv2 \n",
    "import glob\n",
    "device = torch.device(\"cuda\" if torch.cuda.is_available() else \"cpu\")\n",
    "\n",
    "generator_path = 'WGAN/WGAN_generator_model_new2.pth'#'DCGAN_generator.pth'\n",
    "model_name = 'WGAN' #'DCGAN'\n"
   ]
  },
  {
   "cell_type": "code",
   "execution_count": 3,
   "metadata": {
    "id": "XtkXtfQgbw1O"
   },
   "outputs": [],
   "source": [
    "class Generator(nn.Module):\n",
    "    def __init__(self, ngpu):\n",
    "        super(Generator, self).__init__()\n",
    "        self.ngpu = ngpu\n",
    "        self.main = nn.Sequential(\n",
    "            # input is Z, going into a convolution\n",
    "            nn.ConvTranspose2d( nz, ngf * 8, 4, 1, 0, bias=False),\n",
    "            nn.BatchNorm2d(ngf * 8),\n",
    "            nn.ReLU(True),\n",
    "            # state size. (ngf*8) x 4 x 4\n",
    "            nn.ConvTranspose2d(ngf * 8, ngf * 4, 4, 2, 1, bias=False),\n",
    "            nn.BatchNorm2d(ngf * 4),\n",
    "            nn.ReLU(True),\n",
    "            # state size. (ngf*4) x 8 x 8\n",
    "            nn.ConvTranspose2d( ngf * 4, ngf * 2, 4, 2, 1, bias=False),\n",
    "            nn.BatchNorm2d(ngf * 2),\n",
    "            nn.ReLU(True),\n",
    "            # state size. (ngf*2) x 16 x 16\n",
    "            nn.ConvTranspose2d( ngf * 2, ngf, 4, 2, 1, bias=False),\n",
    "            nn.BatchNorm2d(ngf),\n",
    "            nn.ReLU(True),\n",
    "            # state size. (ngf) x 32 x 32\n",
    "            nn.ConvTranspose2d( ngf, nc, 4, 2, 1, bias=False),\n",
    "            nn.Tanh()\n",
    "            # state size. (nc) x 64 x 64\n",
    "        )\n",
    "\n",
    "    def forward(self, input):\n",
    "        return self.main(input)"
   ]
  },
  {
   "cell_type": "code",
   "execution_count": 5,
   "metadata": {
    "colab": {
     "base_uri": "https://localhost:8080/",
     "height": 66,
     "referenced_widgets": [
      "7e7cc14418954e6a996014594b138d0b",
      "2695341e85404bffb002fc3d0738bb25",
      "3e53ead4b5d545059672452eb38e4e59",
      "fcdfbd09e0054d58ac477f2499633d83",
      "c2e847c746334ffbb7ad5e41aa709c8e",
      "f8a7b026d23446f7901fdfee2475bdb6",
      "5c76824f57774cf98a2aaa90667e936a",
      "5019c96c13fb41829ab243308aec27c1",
      "c1be6f5419d943e2b5e9438f735e1729",
      "2ae386ae04154e9a9ad9470281d3c289",
      "05a398fe843e40c78ff844abbbe0723c"
     ]
    },
    "id": "zdWiBNdlsFuB",
    "outputId": "80f300ab-aea9-4628-e73b-f82e175c6541"
   },
   "outputs": [],
   "source": [
    "import pretrainedmodels\n",
    "model_name = 'xception'\n",
    "model = pretrainedmodels.__dict__[model_name](num_classes=1000, pretrained='imagenet')"
   ]
  },
  {
   "cell_type": "code",
   "execution_count": 6,
   "metadata": {
    "id": "jTKCs9OhnDy8"
   },
   "outputs": [],
   "source": [
    "class Discriminator2(nn.Module):\n",
    "    def __init__(self, ngpu):\n",
    "        super(Discriminator2, self).__init__()\n",
    "        self.ngpu = ngpu\n",
    "        self.model = model\n",
    "        self.model.last_linear = nn.Sequential(nn.Linear(2048,1), nn.Sigmoid())\n",
    "        \n",
    "    def forward(self, input):\n",
    "        return self.model(input)"
   ]
  },
  {
   "cell_type": "code",
   "execution_count": null,
   "metadata": {},
   "outputs": [],
   "source": [
    "class Discriminator_wgan(nn.Module):\n",
    "    def __init__(self, ngpu):\n",
    "        super(Discriminator_wgan, self).__init__()\n",
    "        self.ngpu = ngpu\n",
    "        self.model = model\n",
    "        self.model.last_linear = nn.Sequential(nn.Linear(2048,1)) #, nn.Sigmoid()\n",
    "        \n",
    "    def forward(self, input):\n",
    "        return self.model(input)"
   ]
  },
  {
   "cell_type": "code",
   "execution_count": 14,
   "metadata": {
    "colab": {
     "base_uri": "https://localhost:8080/"
    },
    "id": "huBvXf0Lb4hP",
    "outputId": "13372edb-935f-436c-ae7a-8f4800627a70"
   },
   "outputs": [
    {
     "name": "stdout",
     "output_type": "stream",
     "text": [
      "cpu\n",
      "torch.Size([3200, 3, 64, 64]) torch.Size([3200])\n"
     ]
    }
   ],
   "source": [
    "batch_size = 32\n",
    "momentum = 0.9\n",
    "# lr = 0.001\n",
    "epochs = 10\n",
    "log_interval = 10\n",
    "\n",
    "count1 = 0\n",
    "count2 = 0\n",
    "\n",
    "X = []\n",
    "y = []\n",
    "\n",
    "# Number of workers for dataloader\n",
    "workers = 2\n",
    "\n",
    "# Batch size during training\n",
    "batch_size = 128\n",
    "\n",
    "# Spatial size of training images. All images will be resized to this\n",
    "#   size using a transformer.\n",
    "image_size = 64\n",
    "\n",
    "# Number of channels in the training images. For color images this is 3\n",
    "nc = 3\n",
    "\n",
    "# Size of z latent vector (i.e. size of generator input)\n",
    "nz = 100\n",
    "\n",
    "# Size of feature maps in generator\n",
    "ngf = 64\n",
    "\n",
    "# Size of feature maps in discriminator\n",
    "ndf = 64\n",
    "\n",
    "ngpu = 0\n",
    "device = torch.device(\"cuda:0\" if (torch.cuda.is_available() and ngpu > 0) else \"cpu\")\n",
    "\n",
    "model_G = Generator(ngpu)\n",
    "model_G = torch.load(generator_path).to(device)\n",
    "for i in range(50):\n",
    "  count1 += 64 \n",
    "  fixed_noise = torch.randn(64, nz, 1, 1, device=device)\n",
    "  with torch.no_grad():\n",
    "    fake = model_G(fixed_noise).detach().cpu()\n",
    "\n",
    "  X.append(fake)\n",
    "  y.append(torch.zeros(len(fake)))\n",
    "\n",
    "X =torch.cat(X, 0)\n",
    "y = torch.cat(y,0)\n",
    "\n"
   ]
  },
  {
   "cell_type": "code",
   "execution_count": 15,
   "metadata": {
    "colab": {
     "base_uri": "https://localhost:8080/",
     "height": 164
    },
    "id": "z6knLZfKatqg",
    "outputId": "99a7e505-337a-4523-ef9b-70a7d907bee0"
   },
   "outputs": [],
   "source": []
  },
  {
   "cell_type": "code",
   "execution_count": 16,
   "metadata": {
    "colab": {
     "base_uri": "https://localhost:8080/"
    },
    "id": "owmOPGTGb9mf",
    "outputId": "0625346f-d18c-485c-f555-3b665f009b71"
   },
   "outputs": [
    {
     "name": "stdout",
     "output_type": "stream",
     "text": [
      "3200 3200\n"
     ]
    }
   ],
   "source": [
    "count2 = 0\n",
    "import numpy as np \n",
    "from PIL import Image\n",
    "dataroot = \"/vast/aj3281/celeba-dataset\"\n",
    "transform=transforms.Compose([\n",
    "    transforms.Resize(image_size),\n",
    "    transforms.CenterCrop(image_size),\n",
    "    transforms.ToTensor(),\n",
    "    transforms.Normalize((0.5, 0.5, 0.5), (0.5, 0.5, 0.5)),\n",
    "])\n",
    "for i in glob.glob(dataroot + '/img_align_celeba/img_align_celeba/*'):\n",
    "  count2+=1 \n",
    "  if (count2<=3200):\n",
    "    im = Image.open(i)\n",
    "    im = transform(im)\n",
    "    im = im.unsqueeze(0)\n",
    "    \n",
    "    X = torch.cat((X,im ), 0)\n",
    "    y = torch.cat((y, torch.tensor(1).unsqueeze(0)), 0)\n",
    "  if(count2>=3200):\n",
    "    break \n",
    "\n",
    "print(count1, count2)"
   ]
  },
  {
   "cell_type": "code",
   "execution_count": 18,
   "metadata": {
    "colab": {
     "base_uri": "https://localhost:8080/"
    },
    "id": "FtNvxGhzhaHd",
    "outputId": "a023b1f0-7495-41f5-8f88-dbb533a9419d"
   },
   "outputs": [
    {
     "name": "stderr",
     "output_type": "stream",
     "text": [
      "<ipython-input-18-310ab84e7a28>:3: UserWarning: To copy construct from a tensor, it is recommended to use sourceTensor.clone().detach() or sourceTensor.clone().detach().requires_grad_(True), rather than torch.tensor(sourceTensor).\n",
      "  X_train, X_test, y_train, y_test = torch.tensor(X_train), torch.tensor(X_test), torch.tensor(y_train), torch.tensor(y_test)\n"
     ]
    }
   ],
   "source": [
    "X_train, X_test, y_train, y_test = train_test_split(X, y, test_size=0.15, random_state=42, stratify=y)\n",
    "\n",
    "X_train, X_test, y_train, y_test = torch.tensor(X_train), torch.tensor(X_test), torch.tensor(y_train), torch.tensor(y_test) \n",
    "\n",
    "X_train.shape\n",
    "\n",
    "\n",
    "my_dataset_train = TensorDataset(X_train, y_train) # create your datset\n",
    "train_loader = DataLoader(my_dataset_train, batch_size=32, shuffle=True)\n",
    "\n",
    "my_dataset_test = TensorDataset(X_test, y_test) # create your datset\n",
    "test_loader = DataLoader(my_dataset_test, batch_size=32, shuffle=True)"
   ]
  },
  {
   "cell_type": "code",
   "execution_count": 19,
   "metadata": {
    "id": "4gMgVRR3dsF-"
   },
   "outputs": [],
   "source": [
    "model = Discriminator2(ngpu=1).to(device)"
   ]
  },
  {
   "cell_type": "code",
   "execution_count": 20,
   "metadata": {
    "colab": {
     "base_uri": "https://localhost:8080/"
    },
    "id": "K6io9GREiYq6",
    "outputId": "07837575-a28d-4f10-a46b-3d922120b570"
   },
   "outputs": [
    {
     "name": "stderr",
     "output_type": "stream",
     "text": [
      "/ext3/anaconda3/lib/python3.8/site-packages/torch/nn/functional.py:718: UserWarning: Named tensors and all their associated APIs are an experimental feature and subject to change. Please do not use them for anything important until they are released as stable. (Triggered internally at  /opt/conda/conda-bld/pytorch_1623448278899/work/c10/core/TensorImpl.h:1156.)\n",
      "  return torch.max_pool2d(input, kernel_size, stride, padding, dilation, ceil_mode)\n"
     ]
    },
    {
     "name": "stdout",
     "output_type": "stream",
     "text": [
      "Train Epoch: 1 [5408/5440 (99%)]\tLoss: 0.035929\tAccuracy97.518\n",
      "\n",
      "Validation set: Average loss: 0.0000, Accuracy: 959/960 (100%)\n",
      "\n",
      "\n",
      "Saved model to WGAN_discriminator_model_pretrained1.pth.\n",
      "Train Epoch: 2 [5408/5440 (99%)]\tLoss: 0.001683\tAccuracy99.945\n",
      "\n",
      "Validation set: Average loss: 0.0000, Accuracy: 958/960 (100%)\n",
      "\n",
      "\n",
      "Saved model to WGAN_discriminator_model_pretrained2.pth.\n",
      "Train Epoch: 3 [5408/5440 (99%)]\tLoss: 0.003541\tAccuracy99.926\n",
      "\n",
      "Validation set: Average loss: 0.0000, Accuracy: 960/960 (100%)\n",
      "\n",
      "\n",
      "Saved model to WGAN_discriminator_model_pretrained3.pth.\n",
      "Train Epoch: 4 [5408/5440 (99%)]\tLoss: 0.005488\tAccuracy99.871\n",
      "\n",
      "Validation set: Average loss: 0.0000, Accuracy: 959/960 (100%)\n",
      "\n",
      "\n",
      "Saved model to WGAN_discriminator_model_pretrained4.pth.\n",
      "Train Epoch: 5 [5408/5440 (99%)]\tLoss: 0.000103\tAccuracy99.926\n",
      "\n",
      "Validation set: Average loss: 0.0000, Accuracy: 959/960 (100%)\n",
      "\n",
      "\n",
      "Saved model to WGAN_discriminator_model_pretrained5.pth.\n",
      "Train Epoch: 6 [5408/5440 (99%)]\tLoss: 0.000021\tAccuracy100.000\n",
      "\n",
      "Validation set: Average loss: 0.0000, Accuracy: 959/960 (100%)\n",
      "\n",
      "\n",
      "Saved model to WGAN_discriminator_model_pretrained6.pth.\n",
      "Train Epoch: 7 [5408/5440 (99%)]\tLoss: 0.000015\tAccuracy100.000\n",
      "\n",
      "Validation set: Average loss: 0.0000, Accuracy: 960/960 (100%)\n",
      "\n",
      "\n",
      "Saved model to WGAN_discriminator_model_pretrained7.pth.\n",
      "Train Epoch: 8 [5408/5440 (99%)]\tLoss: 0.000013\tAccuracy100.000\n",
      "\n",
      "Validation set: Average loss: 0.0000, Accuracy: 960/960 (100%)\n",
      "\n",
      "\n",
      "Saved model to WGAN_discriminator_model_pretrained8.pth.\n",
      "Train Epoch: 9 [5408/5440 (99%)]\tLoss: 0.000050\tAccuracy100.000\n",
      "\n",
      "Validation set: Average loss: 0.0000, Accuracy: 960/960 (100%)\n",
      "\n",
      "\n",
      "Saved model to WGAN_discriminator_model_pretrained9.pth.\n",
      "Train Epoch: 10 [5408/5440 (99%)]\tLoss: 0.000015\tAccuracy100.000\n",
      "\n",
      "Validation set: Average loss: 0.0000, Accuracy: 960/960 (100%)\n",
      "\n",
      "\n",
      "Saved model to WGAN_discriminator_model_pretrained10.pth.\n"
     ]
    }
   ],
   "source": [
    "lr = 0.0005\n",
    "\n",
    "batch_size = 64\n",
    "optimizer = optim.Adam(model.parameters(), lr=lr)\n",
    "loss_func = nn.BCELoss()\n",
    "\n",
    "def train(epoch):\n",
    "    model.train()\n",
    "    correct =0\n",
    "    for batch_idx, (data, target) in enumerate(train_loader):\n",
    "        data, target = data.to(device), target.to(device)#.float()\n",
    "        \n",
    "        optimizer.zero_grad()\n",
    "        output = model(data).view(-1)\n",
    "\n",
    "        loss = loss_func(output, target.float())\n",
    "        loss.backward()\n",
    "        optimizer.step()\n",
    "        pred = torch.zeros(output.data.shape).to(device)\n",
    "        pred[output.data >=0.5] = 1\n",
    "\n",
    "        # pred = output.data.max(1, keepdim=True)[1] # get the index of the max log-probability\n",
    "        correct += pred.eq(target.data.view_as(pred)).cpu().sum()\n",
    "        # if batch_idx % log_interval == 0:\n",
    "    print('Train Epoch: {} [{}/{} ({:.0f}%)]\\tLoss: {:.6f}\\tAccuracy{:.3f}'.format(\n",
    "        epoch, batch_idx * len(data), len(train_loader.dataset),\n",
    "        100. * batch_idx / len(train_loader), loss.item(), 100. * correct / len(train_loader.dataset) ))\n",
    "\n",
    "def validation():\n",
    "    model.eval()\n",
    "    validation_loss = 0\n",
    "    correct = 0\n",
    "    for data, target in test_loader:\n",
    "        data = data.to(device).float()\n",
    "        target = target.to(device).long()\n",
    "        output = model(data).view(-1)\n",
    "        validation_loss = loss_func(output, target.float())\n",
    "        pred = torch.zeros(output.data.shape).to(device)\n",
    "        pred[output.data >=0.5] = 1\n",
    "        correct += pred.eq(target.data.view_as(pred)).cpu().sum()\n",
    "\n",
    "    validation_loss /= len(test_loader.dataset)\n",
    "    print('\\nValidation set: Average loss: {:.4f}, Accuracy: {}/{} ({:.0f}%)\\n'.format(\n",
    "        validation_loss, correct, len(test_loader.dataset),\n",
    "        100. * correct / len(test_loader.dataset)))\n",
    "\n",
    "\n",
    "for epoch in range(1, epochs + 1):\n",
    "    train(epoch)\n",
    "    validation()\n",
    "    model_file = model_name + '_discriminator_model_pretrained' + str(epoch) + '.pth'\n",
    "    torch.save(model, model_file)\n",
    "    print('\\nSaved model to ' + model_file + '.')"
   ]
  }
 ],
 "metadata": {
  "colab": {
   "collapsed_sections": [],
   "name": "xception_pretrained.ipynb",
   "provenance": []
  },
  "kernelspec": {
   "display_name": "Python 3",
   "language": "python",
   "name": "python3"
  },
  "language_info": {
   "codemirror_mode": {
    "name": "ipython",
    "version": 3
   },
   "file_extension": ".py",
   "mimetype": "text/x-python",
   "name": "python",
   "nbconvert_exporter": "python",
   "pygments_lexer": "ipython3",
   "version": "3.8.8"
  },
  "widgets": {
   "application/vnd.jupyter.widget-state+json": {
    "05a398fe843e40c78ff844abbbe0723c": {
     "model_module": "@jupyter-widgets/base",
     "model_module_version": "1.2.0",
     "model_name": "LayoutModel",
     "state": {
      "_model_module": "@jupyter-widgets/base",
      "_model_module_version": "1.2.0",
      "_model_name": "LayoutModel",
      "_view_count": null,
      "_view_module": "@jupyter-widgets/base",
      "_view_module_version": "1.2.0",
      "_view_name": "LayoutView",
      "align_content": null,
      "align_items": null,
      "align_self": null,
      "border": null,
      "bottom": null,
      "display": null,
      "flex": null,
      "flex_flow": null,
      "grid_area": null,
      "grid_auto_columns": null,
      "grid_auto_flow": null,
      "grid_auto_rows": null,
      "grid_column": null,
      "grid_gap": null,
      "grid_row": null,
      "grid_template_areas": null,
      "grid_template_columns": null,
      "grid_template_rows": null,
      "height": null,
      "justify_content": null,
      "justify_items": null,
      "left": null,
      "margin": null,
      "max_height": null,
      "max_width": null,
      "min_height": null,
      "min_width": null,
      "object_fit": null,
      "object_position": null,
      "order": null,
      "overflow": null,
      "overflow_x": null,
      "overflow_y": null,
      "padding": null,
      "right": null,
      "top": null,
      "visibility": null,
      "width": null
     }
    },
    "2695341e85404bffb002fc3d0738bb25": {
     "model_module": "@jupyter-widgets/base",
     "model_module_version": "1.2.0",
     "model_name": "LayoutModel",
     "state": {
      "_model_module": "@jupyter-widgets/base",
      "_model_module_version": "1.2.0",
      "_model_name": "LayoutModel",
      "_view_count": null,
      "_view_module": "@jupyter-widgets/base",
      "_view_module_version": "1.2.0",
      "_view_name": "LayoutView",
      "align_content": null,
      "align_items": null,
      "align_self": null,
      "border": null,
      "bottom": null,
      "display": null,
      "flex": null,
      "flex_flow": null,
      "grid_area": null,
      "grid_auto_columns": null,
      "grid_auto_flow": null,
      "grid_auto_rows": null,
      "grid_column": null,
      "grid_gap": null,
      "grid_row": null,
      "grid_template_areas": null,
      "grid_template_columns": null,
      "grid_template_rows": null,
      "height": null,
      "justify_content": null,
      "justify_items": null,
      "left": null,
      "margin": null,
      "max_height": null,
      "max_width": null,
      "min_height": null,
      "min_width": null,
      "object_fit": null,
      "object_position": null,
      "order": null,
      "overflow": null,
      "overflow_x": null,
      "overflow_y": null,
      "padding": null,
      "right": null,
      "top": null,
      "visibility": null,
      "width": null
     }
    },
    "2ae386ae04154e9a9ad9470281d3c289": {
     "model_module": "@jupyter-widgets/controls",
     "model_module_version": "1.5.0",
     "model_name": "DescriptionStyleModel",
     "state": {
      "_model_module": "@jupyter-widgets/controls",
      "_model_module_version": "1.5.0",
      "_model_name": "DescriptionStyleModel",
      "_view_count": null,
      "_view_module": "@jupyter-widgets/base",
      "_view_module_version": "1.2.0",
      "_view_name": "StyleView",
      "description_width": ""
     }
    },
    "3e53ead4b5d545059672452eb38e4e59": {
     "model_module": "@jupyter-widgets/controls",
     "model_module_version": "1.5.0",
     "model_name": "HTMLModel",
     "state": {
      "_dom_classes": [],
      "_model_module": "@jupyter-widgets/controls",
      "_model_module_version": "1.5.0",
      "_model_name": "HTMLModel",
      "_view_count": null,
      "_view_module": "@jupyter-widgets/controls",
      "_view_module_version": "1.5.0",
      "_view_name": "HTMLView",
      "description": "",
      "description_tooltip": null,
      "layout": "IPY_MODEL_5c76824f57774cf98a2aaa90667e936a",
      "placeholder": "​",
      "style": "IPY_MODEL_f8a7b026d23446f7901fdfee2475bdb6",
      "value": "100%"
     }
    },
    "5019c96c13fb41829ab243308aec27c1": {
     "model_module": "@jupyter-widgets/controls",
     "model_module_version": "1.5.0",
     "model_name": "ProgressStyleModel",
     "state": {
      "_model_module": "@jupyter-widgets/controls",
      "_model_module_version": "1.5.0",
      "_model_name": "ProgressStyleModel",
      "_view_count": null,
      "_view_module": "@jupyter-widgets/base",
      "_view_module_version": "1.2.0",
      "_view_name": "StyleView",
      "bar_color": null,
      "description_width": ""
     }
    },
    "5c76824f57774cf98a2aaa90667e936a": {
     "model_module": "@jupyter-widgets/base",
     "model_module_version": "1.2.0",
     "model_name": "LayoutModel",
     "state": {
      "_model_module": "@jupyter-widgets/base",
      "_model_module_version": "1.2.0",
      "_model_name": "LayoutModel",
      "_view_count": null,
      "_view_module": "@jupyter-widgets/base",
      "_view_module_version": "1.2.0",
      "_view_name": "LayoutView",
      "align_content": null,
      "align_items": null,
      "align_self": null,
      "border": null,
      "bottom": null,
      "display": null,
      "flex": null,
      "flex_flow": null,
      "grid_area": null,
      "grid_auto_columns": null,
      "grid_auto_flow": null,
      "grid_auto_rows": null,
      "grid_column": null,
      "grid_gap": null,
      "grid_row": null,
      "grid_template_areas": null,
      "grid_template_columns": null,
      "grid_template_rows": null,
      "height": null,
      "justify_content": null,
      "justify_items": null,
      "left": null,
      "margin": null,
      "max_height": null,
      "max_width": null,
      "min_height": null,
      "min_width": null,
      "object_fit": null,
      "object_position": null,
      "order": null,
      "overflow": null,
      "overflow_x": null,
      "overflow_y": null,
      "padding": null,
      "right": null,
      "top": null,
      "visibility": null,
      "width": null
     }
    },
    "7e7cc14418954e6a996014594b138d0b": {
     "model_module": "@jupyter-widgets/controls",
     "model_module_version": "1.5.0",
     "model_name": "HBoxModel",
     "state": {
      "_dom_classes": [],
      "_model_module": "@jupyter-widgets/controls",
      "_model_module_version": "1.5.0",
      "_model_name": "HBoxModel",
      "_view_count": null,
      "_view_module": "@jupyter-widgets/controls",
      "_view_module_version": "1.5.0",
      "_view_name": "HBoxView",
      "box_style": "",
      "children": [
       "IPY_MODEL_3e53ead4b5d545059672452eb38e4e59",
       "IPY_MODEL_fcdfbd09e0054d58ac477f2499633d83",
       "IPY_MODEL_c2e847c746334ffbb7ad5e41aa709c8e"
      ],
      "layout": "IPY_MODEL_2695341e85404bffb002fc3d0738bb25"
     }
    },
    "c1be6f5419d943e2b5e9438f735e1729": {
     "model_module": "@jupyter-widgets/base",
     "model_module_version": "1.2.0",
     "model_name": "LayoutModel",
     "state": {
      "_model_module": "@jupyter-widgets/base",
      "_model_module_version": "1.2.0",
      "_model_name": "LayoutModel",
      "_view_count": null,
      "_view_module": "@jupyter-widgets/base",
      "_view_module_version": "1.2.0",
      "_view_name": "LayoutView",
      "align_content": null,
      "align_items": null,
      "align_self": null,
      "border": null,
      "bottom": null,
      "display": null,
      "flex": null,
      "flex_flow": null,
      "grid_area": null,
      "grid_auto_columns": null,
      "grid_auto_flow": null,
      "grid_auto_rows": null,
      "grid_column": null,
      "grid_gap": null,
      "grid_row": null,
      "grid_template_areas": null,
      "grid_template_columns": null,
      "grid_template_rows": null,
      "height": null,
      "justify_content": null,
      "justify_items": null,
      "left": null,
      "margin": null,
      "max_height": null,
      "max_width": null,
      "min_height": null,
      "min_width": null,
      "object_fit": null,
      "object_position": null,
      "order": null,
      "overflow": null,
      "overflow_x": null,
      "overflow_y": null,
      "padding": null,
      "right": null,
      "top": null,
      "visibility": null,
      "width": null
     }
    },
    "c2e847c746334ffbb7ad5e41aa709c8e": {
     "model_module": "@jupyter-widgets/controls",
     "model_module_version": "1.5.0",
     "model_name": "HTMLModel",
     "state": {
      "_dom_classes": [],
      "_model_module": "@jupyter-widgets/controls",
      "_model_module_version": "1.5.0",
      "_model_name": "HTMLModel",
      "_view_count": null,
      "_view_module": "@jupyter-widgets/controls",
      "_view_module_version": "1.5.0",
      "_view_name": "HTMLView",
      "description": "",
      "description_tooltip": null,
      "layout": "IPY_MODEL_05a398fe843e40c78ff844abbbe0723c",
      "placeholder": "​",
      "style": "IPY_MODEL_2ae386ae04154e9a9ad9470281d3c289",
      "value": " 87.4M/87.4M [04:17&lt;00:00, 361kB/s]"
     }
    },
    "f8a7b026d23446f7901fdfee2475bdb6": {
     "model_module": "@jupyter-widgets/controls",
     "model_module_version": "1.5.0",
     "model_name": "DescriptionStyleModel",
     "state": {
      "_model_module": "@jupyter-widgets/controls",
      "_model_module_version": "1.5.0",
      "_model_name": "DescriptionStyleModel",
      "_view_count": null,
      "_view_module": "@jupyter-widgets/base",
      "_view_module_version": "1.2.0",
      "_view_name": "StyleView",
      "description_width": ""
     }
    },
    "fcdfbd09e0054d58ac477f2499633d83": {
     "model_module": "@jupyter-widgets/controls",
     "model_module_version": "1.5.0",
     "model_name": "FloatProgressModel",
     "state": {
      "_dom_classes": [],
      "_model_module": "@jupyter-widgets/controls",
      "_model_module_version": "1.5.0",
      "_model_name": "FloatProgressModel",
      "_view_count": null,
      "_view_module": "@jupyter-widgets/controls",
      "_view_module_version": "1.5.0",
      "_view_name": "ProgressView",
      "bar_style": "success",
      "description": "",
      "description_tooltip": null,
      "layout": "IPY_MODEL_c1be6f5419d943e2b5e9438f735e1729",
      "max": 91675053,
      "min": 0,
      "orientation": "horizontal",
      "style": "IPY_MODEL_5019c96c13fb41829ab243308aec27c1",
      "value": 91675053
     }
    }
   }
  }
 },
 "nbformat": 4,
 "nbformat_minor": 4
}
